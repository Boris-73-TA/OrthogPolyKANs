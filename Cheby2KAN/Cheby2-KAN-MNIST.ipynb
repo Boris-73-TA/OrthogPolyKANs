{
 "cells": [
  {
   "cell_type": "markdown",
   "id": "f072d87c-27b8-484c-8a67-0e96a7de8a65",
   "metadata": {},
   "source": [
    "## Chebyshev2-KAN for MNIST"
   ]
  },
  {
   "cell_type": "code",
   "execution_count": 4,
   "id": "12617507-fdab-4ae3-bd50-691c130cb60c",
   "metadata": {},
   "outputs": [],
   "source": [
    "import torch\n",
    "import torch.nn as nn\n",
    "import torch.optim as optim\n",
    "from torchvision import datasets, transforms\n",
    "from torch.utils.data import DataLoader, Subset\n",
    "import numpy as np\n",
    "from Cheby2KANLayer import Cheby2KANLayer"
   ]
  },
  {
   "cell_type": "code",
   "execution_count": 5,
   "id": "bd379088-1170-40b1-a82f-232be0bc4c84",
   "metadata": {},
   "outputs": [],
   "source": [
    "# Construct a Cheby2KAN for MNIST\n",
    "class MNISTCheby2KAN(nn.Module):\n",
    "    def __init__(self):\n",
    "        super(MNISTCheby2KAN, self).__init__()\n",
    "        self.cheby2kan1 = Cheby2KANLayer(28*28, 32, 4)\n",
    "        self.ln1 = nn.LayerNorm(32) # To avoid gradient vanishing caused by tanh\n",
    "        self.cheby2kan2 = Cheby2KANLayer(32, 16, 4)\n",
    "        self.ln2 = nn.LayerNorm(16)\n",
    "        self.cheby2kan3 = Cheby2KANLayer(16, 10, 4)\n",
    "\n",
    "    def forward(self, x):\n",
    "        x = x.view(-1, 28*28)  # Flatten the images\n",
    "        x = self.cheby2kan1(x)\n",
    "        x = self.ln1(x)\n",
    "        x = self.cheby2kan2(x)\n",
    "        x = self.ln2(x)\n",
    "        x = self.cheby2kan3(x)\n",
    "        return x"
   ]
  },
  {
   "cell_type": "code",
   "execution_count": 6,
   "id": "75402d6e-bf5c-4832-964f-b1b9c6c5697b",
   "metadata": {},
   "outputs": [
    {
     "name": "stdout",
     "output_type": "stream",
     "text": [
      "Total trainable parameters: 128896\n"
     ]
    }
   ],
   "source": [
    "transform = transforms.Compose([\n",
    "    transforms.ToTensor(), \n",
    "    transforms.Normalize((0.1307,), (0.3081,))\n",
    "])\n",
    "\n",
    "train_dataset = datasets.MNIST(root='./data', train=True, download=True, transform=transform)\n",
    "test_dataset = datasets.MNIST(root='./data', train=False, download=True, transform=transform)\n",
    "\n",
    "train_loader = DataLoader(train_dataset, batch_size=64, shuffle=True)\n",
    "test_loader = DataLoader(test_dataset, batch_size=1024, shuffle=False)\n",
    "\n",
    "device = torch.device(\"cuda\" if torch.cuda.is_available() else \"cpu\")\n",
    "\n",
    "model = MNISTCheby2KAN().to(device)\n",
    "total_params = sum(p.numel() for p in model.parameters() if p.requires_grad)\n",
    "print(f\"Total trainable parameters: {total_params}\")\n",
    "\n",
    "criterion = nn.CrossEntropyLoss()\n",
    "\n",
    "# LBFGS is really slow\n",
    "# optimizer = optim.LBFGS(model.parameters(), lr=0.01)\n",
    "# Adam works with very low lr\n",
    "optimizer = optim.Adam(model.parameters(), lr=0.0002)\n",
    "\n",
    "def train(model, train_loader, criterion, optimizer, device):\n",
    "    model.train()\n",
    "    total_loss = 0\n",
    "    correct = 0\n",
    "    \n",
    "    for idx, (data, target) in enumerate(train_loader):\n",
    "        data, target = data.to(device), target.to(device)\n",
    "\n",
    "        if isinstance(optimizer, optim.LBFGS):\n",
    "            def closure():\n",
    "                optimizer.zero_grad()\n",
    "                output = model(data)\n",
    "                loss = criterion(output, target)\n",
    "                loss.backward()\n",
    "                return loss\n",
    "            loss = optimizer.step(closure)\n",
    "        else:\n",
    "            optimizer.zero_grad()\n",
    "            output = model(data)\n",
    "            loss = criterion(output, target)\n",
    "            loss.backward()\n",
    "            optimizer.step()\n",
    "            loss = loss.item()\n",
    "            \n",
    "        total_loss += loss\n",
    "        \n",
    "    return total_loss / len(train_loader)\n",
    "\n",
    "def validate(model, test_loader, criterion, device):\n",
    "    model.eval()\n",
    "    total_loss = 0\n",
    "    correct = 0\n",
    "    with torch.no_grad():\n",
    "        for data, target in test_loader:\n",
    "            data, target = data.to(device), target.to(device)\n",
    "            output = model(data)\n",
    "            loss = criterion(output, target)\n",
    "            total_loss += loss.item()\n",
    "            pred = output.argmax(dim=1, keepdim=True)\n",
    "            correct += pred.eq(target.view_as(pred)).sum().item()\n",
    "\n",
    "    return total_loss / len(test_loader), correct / len(test_loader.dataset)"
   ]
  },
  {
   "cell_type": "code",
   "execution_count": 7,
   "id": "8e26e6d3-1d01-4024-9da1-17d660582367",
   "metadata": {},
   "outputs": [
    {
     "name": "stdout",
     "output_type": "stream",
     "text": [
      "Epoch 1, Train Loss: 0.6500, Test Loss: 0.2247, Test Acc: 0.94\n",
      "Epoch 2, Train Loss: 0.1948, Test Loss: 0.1781, Test Acc: 0.95\n",
      "Epoch 3, Train Loss: 0.1410, Test Loss: 0.1578, Test Acc: 0.95\n",
      "Epoch 4, Train Loss: 0.1158, Test Loss: 0.1317, Test Acc: 0.96\n",
      "Epoch 5, Train Loss: 0.0984, Test Loss: 0.1279, Test Acc: 0.96\n",
      "Epoch 6, Train Loss: 0.0852, Test Loss: 0.1130, Test Acc: 0.97\n",
      "Epoch 7, Train Loss: 0.0755, Test Loss: 0.1136, Test Acc: 0.97\n",
      "Epoch 8, Train Loss: 0.0691, Test Loss: 0.1030, Test Acc: 0.97\n",
      "Epoch 9, Train Loss: 0.0621, Test Loss: 0.1304, Test Acc: 0.96\n",
      "Epoch 10, Train Loss: 0.0542, Test Loss: 0.1007, Test Acc: 0.97\n",
      "Epoch 11, Train Loss: 0.0522, Test Loss: 0.0947, Test Acc: 0.97\n",
      "Epoch 12, Train Loss: 0.0471, Test Loss: 0.0975, Test Acc: 0.97\n",
      "Epoch 13, Train Loss: 0.0408, Test Loss: 0.1095, Test Acc: 0.97\n",
      "Epoch 14, Train Loss: 0.0382, Test Loss: 0.1057, Test Acc: 0.97\n",
      "Epoch 15, Train Loss: 0.0385, Test Loss: 0.1013, Test Acc: 0.97\n",
      "Epoch 16, Train Loss: 0.0312, Test Loss: 0.1000, Test Acc: 0.97\n",
      "Epoch 17, Train Loss: 0.0329, Test Loss: 0.1158, Test Acc: 0.97\n",
      "Epoch 18, Train Loss: 0.0281, Test Loss: 0.1342, Test Acc: 0.96\n",
      "Epoch 19, Train Loss: 0.0274, Test Loss: 0.1024, Test Acc: 0.97\n",
      "Epoch 20, Train Loss: 0.0243, Test Loss: 0.1063, Test Acc: 0.97\n",
      "Epoch 21, Train Loss: 0.0250, Test Loss: 0.1137, Test Acc: 0.97\n",
      "Epoch 22, Train Loss: 0.0228, Test Loss: 0.1243, Test Acc: 0.97\n",
      "Epoch 23, Train Loss: 0.0205, Test Loss: 0.1163, Test Acc: 0.97\n",
      "Epoch 24, Train Loss: 0.0196, Test Loss: 0.1281, Test Acc: 0.97\n",
      "Epoch 25, Train Loss: 0.0177, Test Loss: 0.1172, Test Acc: 0.97\n",
      "Epoch 26, Train Loss: 0.0199, Test Loss: 0.1082, Test Acc: 0.97\n",
      "Epoch 27, Train Loss: 0.0157, Test Loss: 0.1226, Test Acc: 0.97\n",
      "Epoch 28, Train Loss: 0.0152, Test Loss: 0.1394, Test Acc: 0.97\n",
      "Epoch 29, Train Loss: 0.0163, Test Loss: 0.1101, Test Acc: 0.97\n",
      "Epoch 30, Train Loss: 0.0136, Test Loss: 0.1127, Test Acc: 0.97\n"
     ]
    },
    {
     "data": {
      "image/png": "[encoded data removed]",
      "text/plain": [
       "<Figure size 1000x500 with 1 Axes>"
      ]
     },
     "metadata": {},
     "output_type": "display_data"
    }
   ],
   "source": [
    "train_losses = []\n",
    "test_losses = []\n",
    "\n",
    "epochs = 30\n",
    "for epoch in range(epochs):\n",
    "    train_loss = train(model, train_loader, criterion, optimizer, device)\n",
    "    test_loss, test_accuracy = validate(model, test_loader, criterion, device)\n",
    "\n",
    "    train_losses.append(train_loss)\n",
    "    test_losses.append(test_loss)\n",
    "    \n",
    "    print(f'Epoch {epoch + 1}, Train Loss: {train_loss:.4f}, '\n",
    "          f'Test Loss: {test_loss:.4f}, Test Acc: {test_accuracy:.2f}')\n",
    "\n",
    "import matplotlib.pyplot as plt\n",
    "\n",
    "plt.figure(figsize=(10, 5))\n",
    "plt.plot(range(1, epochs + 1), train_losses, label='Train Loss')\n",
    "plt.plot(range(1, epochs + 1), test_losses, label='Test Loss')\n",
    "plt.title('Train and Test Loss Over Epochs')\n",
    "plt.xlabel('Epochs')\n",
    "plt.ylabel('Loss')\n",
    "plt.legend()\n",
    "plt.grid(True)\n",
    "plt.show()"
   ]
  },
  {
   "cell_type": "markdown",
   "id": "c8be7dd2-421e-4895-9644-e9dea4094928",
   "metadata": {},
   "source": [
    "## Take a peek at what the Chebyshev2 Polynomials look like"
   ]
  },
  {
   "cell_type": "code",
   "execution_count": 8,
   "id": "7794dee9-c81d-431a-8641-339a9cd80190",
   "metadata": {},
   "outputs": [],
   "source": [
    "def chebyshev2_polynomials(x, degree):\n",
    "    # T_0(x) and T_1(x)\n",
    "    if degree == 0:\n",
    "        return np.ones_like(x)\n",
    "    elif degree == 1:\n",
    "        return x\n",
    "    else:\n",
    "        Tn_2 = np.ones_like(x)\n",
    "        Tn_1 = 2*x\n",
    "        Tn = None\n",
    "        for n in range(2, degree + 1):\n",
    "            Tn = 2 * x * Tn_1 - Tn_2\n",
    "            Tn_2, Tn_1 = Tn_1, Tn\n",
    "        return Tn"
   ]
  },
  {
   "cell_type": "code",
   "execution_count": 9,
   "id": "b8f56b9d-7af9-4d6b-8519-0c667cc3d625",
   "metadata": {},
   "outputs": [
    {
     "ename": "AttributeError",
     "evalue": "'Cheby2KANLayer' object has no attribute 'cheby2_coeffs'",
     "output_type": "error",
     "traceback": [
      "\u001b[0;31m---------------------------------------------------------------------------\u001b[0m",
      "\u001b[0;31mAttributeError\u001b[0m                            Traceback (most recent call last)",
      "Cell \u001b[0;32mIn[9], line 4\u001b[0m\n\u001b[1;32m      2\u001b[0m plt\u001b[38;5;241m.\u001b[39mfigure(figsize\u001b[38;5;241m=\u001b[39m(\u001b[38;5;241m8\u001b[39m, \u001b[38;5;241m4\u001b[39m))\n\u001b[1;32m      3\u001b[0m \u001b[38;5;66;03m# choose the layer u want to inspect\u001b[39;00m\n\u001b[0;32m----> 4\u001b[0m all_coeffs \u001b[38;5;241m=\u001b[39m \u001b[43mmodel\u001b[49m\u001b[38;5;241;43m.\u001b[39;49m\u001b[43mcheby2kan1\u001b[49m\u001b[38;5;241;43m.\u001b[39;49m\u001b[43mcheby2_coeffs\u001b[49m\u001b[38;5;241m.\u001b[39mdetach()\u001b[38;5;241m.\u001b[39mcpu()\u001b[38;5;241m.\u001b[39mnumpy()\n\u001b[1;32m      5\u001b[0m \u001b[38;5;66;03m# choose the input dim\u001b[39;00m\n\u001b[1;32m      6\u001b[0m all_coeffs \u001b[38;5;241m=\u001b[39m all_coeffs[\u001b[38;5;241m28\u001b[39m \u001b[38;5;241m*\u001b[39m \u001b[38;5;241m28\u001b[39m \u001b[38;5;241m/\u001b[39m\u001b[38;5;241m/\u001b[39m \u001b[38;5;241m2\u001b[39m]\n",
      "File \u001b[0;32m~/opt/anaconda3/lib/python3.8/site-packages/torch/nn/modules/module.py:1614\u001b[0m, in \u001b[0;36mModule.__getattr__\u001b[0;34m(self, name)\u001b[0m\n\u001b[1;32m   1612\u001b[0m     \u001b[38;5;28;01mif\u001b[39;00m name \u001b[38;5;129;01min\u001b[39;00m modules:\n\u001b[1;32m   1613\u001b[0m         \u001b[38;5;28;01mreturn\u001b[39;00m modules[name]\n\u001b[0;32m-> 1614\u001b[0m \u001b[38;5;28;01mraise\u001b[39;00m \u001b[38;5;167;01mAttributeError\u001b[39;00m(\u001b[38;5;124m\"\u001b[39m\u001b[38;5;124m'\u001b[39m\u001b[38;5;132;01m{}\u001b[39;00m\u001b[38;5;124m'\u001b[39m\u001b[38;5;124m object has no attribute \u001b[39m\u001b[38;5;124m'\u001b[39m\u001b[38;5;132;01m{}\u001b[39;00m\u001b[38;5;124m'\u001b[39m\u001b[38;5;124m\"\u001b[39m\u001b[38;5;241m.\u001b[39mformat(\n\u001b[1;32m   1615\u001b[0m     \u001b[38;5;28mtype\u001b[39m(\u001b[38;5;28mself\u001b[39m)\u001b[38;5;241m.\u001b[39m\u001b[38;5;18m__name__\u001b[39m, name))\n",
      "\u001b[0;31mAttributeError\u001b[0m: 'Cheby2KANLayer' object has no attribute 'cheby2_coeffs'"
     ]
    },
    {
     "data": {
      "text/plain": [
       "<Figure size 800x400 with 0 Axes>"
      ]
     },
     "metadata": {},
     "output_type": "display_data"
    }
   ],
   "source": [
    "import matplotlib.pyplot as plt\n",
    "plt.figure(figsize=(8, 4))\n",
    "# choose the layer u want to inspect\n",
    "all_coeffs = model.cheby2kan1.cheby2_coeffs.detach().cpu().numpy()\n",
    "# choose the input dim\n",
    "all_coeffs = all_coeffs[28 * 28 // 2]\n",
    "# Plot over output dim\n",
    "for some_coeffs in all_coeffs:\n",
    "    x_values = np.linspace(-1, 1, 400)\n",
    "    y_values = np.zeros_like(x_values)\n",
    "    for i, coeff in enumerate(some_coeffs):\n",
    "        y_values += coeff * chebyshev2_polynomials(x_values, i)\n",
    "    \n",
    "    plt.plot(x_values, y_values)\n",
    "    \n",
    "plt.title('Function Represented by Chebyshev2 Coefficients')\n",
    "plt.xlabel('x')\n",
    "plt.ylabel('f(x)')\n",
    "plt.grid(True)\n",
    "plt.show()"
   ]
  },
  {
   "cell_type": "code",
   "execution_count": null,
   "id": "3075ff91-4819-4d19-b2fe-d310d43ea3b5",
   "metadata": {},
   "outputs": [],
   "source": [
    "import matplotlib.pyplot as plt\n",
    "plt.figure(figsize=(8, 4))\n",
    "# choose the layer u want to inspect\n",
    "all_coeffs = model.cheby2kan2.cheby2_coeffs.detach().cpu().numpy()\n",
    "# choose the input dim\n",
    "all_coeffs = all_coeffs[16]\n",
    "# Plot over output dim\n",
    "for some_coeffs in all_coeffs:\n",
    "    x_values = np.linspace(-1, 1, 400)\n",
    "    y_values = np.zeros_like(x_values)\n",
    "    for i, coeff in enumerate(some_coeffs):\n",
    "        y_values += coeff * chebyshev2_polynomials(x_values, i)\n",
    "    \n",
    "    plt.plot(x_values, y_values)\n",
    "    \n",
    "plt.title('Function Represented by Chebyshev2 Coefficients')\n",
    "plt.xlabel('x')\n",
    "plt.ylabel('f(x)')\n",
    "plt.grid(True)\n",
    "plt.show()"
   ]
  },
  {
   "cell_type": "code",
   "execution_count": null,
   "id": "594e8f32-4f4c-406f-a360-bbb7ee8f00d2",
   "metadata": {},
   "outputs": [],
   "source": [
    "import matplotlib.pyplot as plt\n",
    "plt.figure(figsize=(8, 4))\n",
    "# choose the layer u want to inspect\n",
    "all_coeffs = model.cheby2kan3.cheby2_coeffs.detach().cpu().numpy()\n",
    "# choose the input dim\n",
    "all_coeffs = all_coeffs[8]\n",
    "# Plot over output dim\n",
    "for some_coeffs in all_coeffs:\n",
    "    x_values = np.linspace(-1, 1, 400)\n",
    "    y_values = np.zeros_like(x_values)\n",
    "    for i, coeff in enumerate(some_coeffs):\n",
    "        y_values += coeff * chebyshev2_polynomials(x_values, i)\n",
    "    \n",
    "    plt.plot(x_values, y_values)\n",
    "    \n",
    "plt.title('Function Represented by Chebyshev2 Coefficients')\n",
    "plt.xlabel('x')\n",
    "plt.ylabel('f(x)')\n",
    "plt.grid(True)\n",
    "plt.show()"
   ]
  },
  {
   "cell_type": "code",
   "execution_count": null,
   "id": "e17d660b-8d5d-47d5-8302-57d88bb48fcf",
   "metadata": {},
   "outputs": [],
   "source": []
  },
  {
   "cell_type": "code",
   "execution_count": null,
   "id": "8b8646bd-f7ba-451a-9e84-f3a43645e1a9",
   "metadata": {},
   "outputs": [],
   "source": []
  }
 ],
 "metadata": {
  "kernelspec": {
   "display_name": "Python 3 (ipykernel)",
   "language": "python",
   "name": "python3"
  },
  "language_info": {
   "codemirror_mode": {
    "name": "ipython",
    "version": 3
   },
   "file_extension": ".py",
   "mimetype": "text/x-python",
   "name": "python",
   "nbconvert_exporter": "python",
   "pygments_lexer": "ipython3",
   "version": "3.8.18"
  }
 },
 "nbformat": 4,
 "nbformat_minor": 5
}
